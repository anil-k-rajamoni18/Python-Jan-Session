{
 "cells": [
  {
   "cell_type": "code",
   "execution_count": 1,
   "metadata": {},
   "outputs": [],
   "source": [
    "from tkinter import *\n",
    "import random, string\n",
    "import pyperclip"
   ]
  },
  {
   "cell_type": "code",
   "execution_count": 2,
   "metadata": {},
   "outputs": [
    {
     "data": {
      "text/plain": [
       "''"
      ]
     },
     "execution_count": 2,
     "metadata": {},
     "output_type": "execute_result"
    }
   ],
   "source": [
    "root = Tk()\n",
    "root.geometry(\"400x400\")\n",
    "root.resizable(0,0)\n",
    "root.title(\"PASSWORD GENERATOR\")"
   ]
  },
  {
   "cell_type": "code",
   "execution_count": 3,
   "metadata": {},
   "outputs": [],
   "source": [
    "Label(root, text = 'PASSWORD GENERATOR' , font ='arial 15 bold').pack()"
   ]
  },
  {
   "cell_type": "code",
   "execution_count": 4,
   "metadata": {},
   "outputs": [],
   "source": [
    "pass_label = Label(root, text = 'PASSWORD LENGTH', font = 'arial 10 bold').pack()\n",
    "pass_len = IntVar()\n",
    "length = Spinbox(root, from_ = 8, to_ = 32 , textvariable = pass_len , width = 15).pack()"
   ]
  },
  {
   "cell_type": "code",
   "execution_count": 5,
   "metadata": {},
   "outputs": [],
   "source": [
    "pass_str = StringVar()\n",
    "def Generator():\n",
    "    password = ''\n",
    "\n",
    "    for x in range (0,4):\n",
    "        Password = random.choice(string.ascii_uppercase) + random.choice(string.ascii_lowercase) + random.choice(string.digits) + random.choice(string.punctuation)\n",
    "    for y in range(pass_len.get()):\n",
    "        password = password + random.choice(string.ascii_uppercase + string.ascii_lowercase + string.digits + string.punctuation)\n",
    "        \n",
    "        \n",
    "    pass_str.set(password)"
   ]
  },
  {
   "cell_type": "code",
   "execution_count": 6,
   "metadata": {},
   "outputs": [],
   "source": [
    "Button(root, text = \"GENERATE PASSWORD\" , command = Generator ).pack(pady= 5)\n",
    "\n",
    "Entry(root , textvariable = pass_str).pack()"
   ]
  },
  {
   "cell_type": "code",
   "execution_count": 7,
   "metadata": {},
   "outputs": [],
   "source": [
    "def Copy_password():\n",
    "    pyperclip.copy(pass_str.get())\n",
    "\n",
    "Button(root, text = 'COPY TO CLIPBOARD', command = Copy_password).pack(pady=5)"
   ]
  },
  {
   "cell_type": "code",
   "execution_count": 8,
   "metadata": {},
   "outputs": [],
   "source": [
    "root.mainloop()"
   ]
  },
  {
   "cell_type": "code",
   "execution_count": null,
   "metadata": {},
   "outputs": [],
   "source": [
    "\n",
    "# imports\n",
    "\n",
    "from tkinter import *\n",
    "import random, string\n",
    "import pyperclip\n",
    "\n",
    "\n",
    "# configurations\n",
    "\n",
    "root = Tk()\n",
    "root.geometry(\"400x400\")\n",
    "root.resizable(0,0)\n",
    "root.title(\"PASSWORD GENERATOR\")\n",
    "\n"
   ]
  }
 ],
 "metadata": {
  "kernelspec": {
   "display_name": "Python 3",
   "language": "python",
   "name": "python3"
  },
  "language_info": {
   "codemirror_mode": {
    "name": "ipython",
    "version": 3
   },
   "file_extension": ".py",
   "mimetype": "text/x-python",
   "name": "python",
   "nbconvert_exporter": "python",
   "pygments_lexer": "ipython3",
   "version": "3.8.8"
  }
 },
 "nbformat": 4,
 "nbformat_minor": 4
}
