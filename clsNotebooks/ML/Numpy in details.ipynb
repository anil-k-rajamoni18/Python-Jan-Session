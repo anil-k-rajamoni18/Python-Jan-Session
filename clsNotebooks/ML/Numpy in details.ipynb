{
 "cells": [
  {
   "cell_type": "markdown",
   "metadata": {},
   "source": [
    "# Numpy Array"
   ]
  },
  {
   "cell_type": "markdown",
   "metadata": {},
   "source": [
    "##### What is NumPy?\n",
    "\n",
    "- NumPy is a Python library used for working with arrays, images, matrix etc\n",
    "\n",
    "- It also has functions for working in domain of linear algebra, fourier transform, and matrices.\n",
    "\n",
    "- NumPy was created in 2005 by Travis Oliphant. It is an open source project and you can use it freely.\n",
    "\n",
    "- NumPy stands for Numerical Python.\n",
    "\n",
    "\n",
    "### Why Use NumPy?\n",
    "\n",
    "- In Python we have lists that serve the purpose of arrays, but they are slow to process.\n",
    "- NumPy aims to provide an array object that is up to 50x faster than traditional Python lists.\n",
    "\n",
    "- NumPy arrays are stored at one continuous place in memory unlike lists, so processes can access and manipulate them very efficiently.\n",
    "\n",
    "- This behavior is called locality of reference in computer science."
   ]
  },
  {
   "cell_type": "markdown",
   "metadata": {},
   "source": [
    "#### Install \n",
    "\n",
    "- we need to install the numpy before we use it, as it is not a builtin module.\n",
    "\n",
    "pip install numpy"
   ]
  },
  {
   "cell_type": "code",
   "execution_count": null,
   "metadata": {},
   "outputs": [],
   "source": [
    "from IPython.core.interactiveshell import InteractiveShell\n",
    "InteractiveShell.ast_node_interactivity = \"all\""
   ]
  },
  {
   "cell_type": "code",
   "execution_count": null,
   "metadata": {},
   "outputs": [],
   "source": [
    "a=10\n",
    "b=20\n",
    "a\n",
    "b"
   ]
  },
  {
   "cell_type": "code",
   "execution_count": null,
   "metadata": {},
   "outputs": [],
   "source": [
    "#importing\n",
    "\n",
    "import numpy\n",
    "\n",
    "#alias\n",
    "import numpy as np"
   ]
  },
  {
   "cell_type": "code",
   "execution_count": null,
   "metadata": {},
   "outputs": [],
   "source": [
    "dir(np)"
   ]
  },
  {
   "cell_type": "code",
   "execution_count": 6,
   "metadata": {},
   "outputs": [
    {
     "name": "stdout",
     "output_type": "stream",
     "text": [
      "['vbhvh', 2.0, 3] <class 'list'>\n",
      "<class 'str'> <class 'float'>\n"
     ]
    }
   ],
   "source": [
    "lst = [\"vbhvh\", 2.0, 3]\n",
    "\n",
    "print(lst , type(lst))\n",
    "\n",
    "print(type(lst[0]),type(lst[1]))"
   ]
  },
  {
   "cell_type": "code",
   "execution_count": 18,
   "metadata": {
    "scrolled": true
   },
   "outputs": [
    {
     "name": "stdout",
     "output_type": "stream",
     "text": [
      "[2.  2.  3.5]\n",
      "<class 'numpy.ndarray'>\n"
     ]
    }
   ],
   "source": [
    "import numpy as np\n",
    "\n",
    "arr = np.array([2, 2, 3.5])\n",
    "print(arr)\n",
    "print(type(arr))"
   ]
  },
  {
   "cell_type": "code",
   "execution_count": 19,
   "metadata": {},
   "outputs": [
    {
     "data": {
      "text/plain": [
       "2.0"
      ]
     },
     "execution_count": 19,
     "metadata": {},
     "output_type": "execute_result"
    },
    {
     "data": {
      "text/plain": [
       "3.5"
      ]
     },
     "execution_count": 19,
     "metadata": {},
     "output_type": "execute_result"
    },
    {
     "name": "stdout",
     "output_type": "stream",
     "text": [
      "<class 'numpy.float64'>\n"
     ]
    }
   ],
   "source": [
    "arr[0]\n",
    "arr[2]\n",
    "# arr[3]=10 \n",
    "print(type(arr[2]))"
   ]
  },
  {
   "cell_type": "code",
   "execution_count": 20,
   "metadata": {},
   "outputs": [],
   "source": [
    "#Upcasting:"
   ]
  },
  {
   "cell_type": "code",
   "execution_count": 21,
   "metadata": {},
   "outputs": [
    {
     "name": "stdout",
     "output_type": "stream",
     "text": [
      "1.0 <class 'numpy.float64'>\n",
      "[ 1.   2.   3.  40.2 39.4  1. ]\n"
     ]
    }
   ],
   "source": [
    "arr = np.array([1, 2, 3.0,40.2,39.4 ,True])\n",
    "print(arr[0],type(arr[0]))\n",
    "print(arr)"
   ]
  },
  {
   "cell_type": "code",
   "execution_count": 22,
   "metadata": {},
   "outputs": [
    {
     "name": "stdout",
     "output_type": "stream",
     "text": [
      "2.0\n",
      "<class 'numpy.float64'>\n"
     ]
    }
   ],
   "source": [
    "print(arr[1])\n",
    "print(type(arr[1]))"
   ]
  },
  {
   "cell_type": "code",
   "execution_count": 23,
   "metadata": {},
   "outputs": [],
   "source": [
    "# numpy.array([])"
   ]
  },
  {
   "cell_type": "code",
   "execution_count": 24,
   "metadata": {},
   "outputs": [],
   "source": [
    "#two dimensions"
   ]
  },
  {
   "cell_type": "code",
   "execution_count": 28,
   "metadata": {},
   "outputs": [
    {
     "name": "stdout",
     "output_type": "stream",
     "text": [
      "2\n"
     ]
    }
   ],
   "source": [
    "# python list 2D\n",
    "\n",
    "lst2D = [[1, 2], [3, 4]]\n",
    "\n",
    "print(lst2D[0][1])"
   ]
  },
  {
   "cell_type": "code",
   "execution_count": 26,
   "metadata": {},
   "outputs": [],
   "source": [
    " a2d= np.array([[1, 2], [3, 4]])"
   ]
  },
  {
   "cell_type": "code",
   "execution_count": 29,
   "metadata": {},
   "outputs": [
    {
     "data": {
      "text/plain": [
       "2"
      ]
     },
     "execution_count": 29,
     "metadata": {},
     "output_type": "execute_result"
    },
    {
     "data": {
      "text/plain": [
       "4"
      ]
     },
     "execution_count": 29,
     "metadata": {},
     "output_type": "execute_result"
    },
    {
     "data": {
      "text/plain": [
       "4"
      ]
     },
     "execution_count": 29,
     "metadata": {},
     "output_type": "execute_result"
    },
    {
     "data": {
      "text/plain": [
       "4"
      ]
     },
     "execution_count": 29,
     "metadata": {},
     "output_type": "execute_result"
    }
   ],
   "source": [
    "a2d[0,1] #[row,col]\n",
    "a2d[1][1]\n",
    "a2d[-1][-1]\n",
    "a2d[-1][-1]"
   ]
  },
  {
   "cell_type": "code",
   "execution_count": 30,
   "metadata": {},
   "outputs": [
    {
     "name": "stdout",
     "output_type": "stream",
     "text": [
      "(2, 2)\n"
     ]
    }
   ],
   "source": [
    "print(a2d.shape)"
   ]
  },
  {
   "cell_type": "code",
   "execution_count": null,
   "metadata": {},
   "outputs": [],
   "source": []
  },
  {
   "cell_type": "code",
   "execution_count": 31,
   "metadata": {},
   "outputs": [],
   "source": [
    "#Minimum dimensions 2:"
   ]
  },
  {
   "cell_type": "code",
   "execution_count": 32,
   "metadata": {},
   "outputs": [],
   "source": [
    "a = np.array([1, 2, 3], ndmin=5)"
   ]
  },
  {
   "cell_type": "code",
   "execution_count": 33,
   "metadata": {},
   "outputs": [
    {
     "data": {
      "text/plain": [
       "(1, 1, 1, 1, 3)"
      ]
     },
     "execution_count": 33,
     "metadata": {},
     "output_type": "execute_result"
    }
   ],
   "source": [
    "a.shape"
   ]
  },
  {
   "cell_type": "code",
   "execution_count": 34,
   "metadata": {},
   "outputs": [
    {
     "name": "stdout",
     "output_type": "stream",
     "text": [
      "[[[[[1 2 3]]]]]\n"
     ]
    }
   ],
   "source": [
    "print(a)"
   ]
  },
  {
   "cell_type": "code",
   "execution_count": 35,
   "metadata": {},
   "outputs": [
    {
     "data": {
      "text/plain": [
       "3"
      ]
     },
     "execution_count": 35,
     "metadata": {},
     "output_type": "execute_result"
    }
   ],
   "source": [
    "#3\n",
    "a[0][0][0][0][2]"
   ]
  },
  {
   "cell_type": "code",
   "execution_count": 38,
   "metadata": {},
   "outputs": [
    {
     "data": {
      "text/plain": [
       "array([[[[    1,     2,     3,     5,    10,     2,   291,  2782,\n",
       "          10991]]]])"
      ]
     },
     "execution_count": 38,
     "metadata": {},
     "output_type": "execute_result"
    }
   ],
   "source": [
    "\n",
    "arr=np.array([1, 2, 3,5,10,2,291,2782,10991], ndmin=4)\n",
    "arr"
   ]
  },
  {
   "cell_type": "code",
   "execution_count": 39,
   "metadata": {},
   "outputs": [
    {
     "data": {
      "text/plain": [
       "(1, 1, 1, 9)"
      ]
     },
     "execution_count": 39,
     "metadata": {},
     "output_type": "execute_result"
    },
    {
     "data": {
      "text/plain": [
       "1"
      ]
     },
     "execution_count": 39,
     "metadata": {},
     "output_type": "execute_result"
    },
    {
     "name": "stdout",
     "output_type": "stream",
     "text": [
      "[[[[    1     2     3     5    10     2   291  2782 10991]]]]\n",
      "[[[    1     2     3     5    10     2   291  2782 10991]]]\n",
      "[[    1     2     3     5    10     2   291  2782 10991]]\n",
      "[    1     2     3     5    10     2   291  2782 10991]\n",
      "10\n",
      "10\n"
     ]
    }
   ],
   "source": [
    "#checking the dimension\n",
    "arr.shape\n",
    "\n",
    "len(arr)\n",
    "\n",
    "print(arr)\n",
    "\n",
    "# print(arr[0][0][0,7])\n",
    "print(arr[0])\n",
    "print(arr[0][0])\n",
    "print(arr[0][0][0])\n",
    "print(arr[0][0][0][4])\n",
    "print(arr[0,0,0,4])"
   ]
  },
  {
   "cell_type": "code",
   "execution_count": null,
   "metadata": {},
   "outputs": [],
   "source": [
    "#dtype"
   ]
  },
  {
   "cell_type": "code",
   "execution_count": 40,
   "metadata": {},
   "outputs": [
    {
     "data": {
      "text/plain": [
       "array([1.+2.j, 2.+0.j, 3.+0.j])"
      ]
     },
     "execution_count": 40,
     "metadata": {},
     "output_type": "execute_result"
    }
   ],
   "source": [
    " np.array([1+2j, 2, 3], dtype=complex) #x+yj"
   ]
  },
  {
   "cell_type": "code",
   "execution_count": 41,
   "metadata": {},
   "outputs": [
    {
     "data": {
      "text/plain": [
       "array(['1', '2', '3'], dtype='<U1')"
      ]
     },
     "execution_count": 41,
     "metadata": {},
     "output_type": "execute_result"
    }
   ],
   "source": [
    " np.array([1, 2, 3], dtype=str)"
   ]
  },
  {
   "cell_type": "code",
   "execution_count": 47,
   "metadata": {},
   "outputs": [
    {
     "data": {
      "text/plain": [
       "False"
      ]
     },
     "execution_count": 47,
     "metadata": {},
     "output_type": "execute_result"
    },
    {
     "data": {
      "text/plain": [
       "False"
      ]
     },
     "execution_count": 47,
     "metadata": {},
     "output_type": "execute_result"
    },
    {
     "data": {
      "text/plain": [
       "False"
      ]
     },
     "execution_count": 47,
     "metadata": {},
     "output_type": "execute_result"
    },
    {
     "data": {
      "text/plain": [
       "False"
      ]
     },
     "execution_count": 47,
     "metadata": {},
     "output_type": "execute_result"
    },
    {
     "data": {
      "text/plain": [
       "False"
      ]
     },
     "execution_count": 47,
     "metadata": {},
     "output_type": "execute_result"
    },
    {
     "data": {
      "text/plain": [
       "False"
      ]
     },
     "execution_count": 47,
     "metadata": {},
     "output_type": "execute_result"
    },
    {
     "data": {
      "text/plain": [
       "False"
      ]
     },
     "execution_count": 47,
     "metadata": {},
     "output_type": "execute_result"
    }
   ],
   "source": [
    "bool(0)\n",
    "bool(0.0)\n",
    "bool([])\n",
    "bool(())\n",
    "bool(set())\n",
    "bool({})\n",
    "bool(\"\")"
   ]
  },
  {
   "cell_type": "code",
   "execution_count": 45,
   "metadata": {},
   "outputs": [
    {
     "data": {
      "text/plain": [
       "array([ True,  True, False, False])"
      ]
     },
     "execution_count": 45,
     "metadata": {},
     "output_type": "execute_result"
    }
   ],
   "source": [
    " np.array([1, 2, 0,{}], dtype=bool)"
   ]
  },
  {
   "cell_type": "code",
   "execution_count": null,
   "metadata": {},
   "outputs": [],
   "source": [
    "#Data-type consisting of more than one element:"
   ]
  },
  {
   "cell_type": "code",
   "execution_count": 48,
   "metadata": {},
   "outputs": [
    {
     "data": {
      "text/plain": [
       "array([(1., 2), (3., 4)], dtype=[('f', '<f4'), ('b', '<i4')])"
      ]
     },
     "execution_count": 48,
     "metadata": {},
     "output_type": "execute_result"
    }
   ],
   "source": [
    "x = np.array([(1,2),(3,4)],dtype=[('f','f'),('b','<i4')])\n",
    "x"
   ]
  },
  {
   "cell_type": "code",
   "execution_count": 50,
   "metadata": {},
   "outputs": [
    {
     "data": {
      "text/plain": [
       "array([1., 2., 3.], dtype=float32)"
      ]
     },
     "execution_count": 50,
     "metadata": {},
     "output_type": "execute_result"
    },
    {
     "data": {
      "text/plain": [
       "numpy.float32"
      ]
     },
     "execution_count": 50,
     "metadata": {},
     "output_type": "execute_result"
    }
   ],
   "source": [
    "a=np.array([1, 2, 3], dtype='f')\n",
    "a\n",
    "type(a[0])"
   ]
  },
  {
   "cell_type": "code",
   "execution_count": 51,
   "metadata": {},
   "outputs": [
    {
     "name": "stdout",
     "output_type": "stream",
     "text": [
      "2\n"
     ]
    },
    {
     "data": {
      "text/plain": [
       "numpy.float32"
      ]
     },
     "execution_count": 51,
     "metadata": {},
     "output_type": "execute_result"
    },
    {
     "data": {
      "text/plain": [
       "numpy.int32"
      ]
     },
     "execution_count": 51,
     "metadata": {},
     "output_type": "execute_result"
    },
    {
     "data": {
      "text/plain": [
       "numpy.float32"
      ]
     },
     "execution_count": 51,
     "metadata": {},
     "output_type": "execute_result"
    },
    {
     "data": {
      "text/plain": [
       "numpy.int32"
      ]
     },
     "execution_count": 51,
     "metadata": {},
     "output_type": "execute_result"
    }
   ],
   "source": [
    "print(x[0][1])\n",
    "type(x[0][0])\n",
    "type(x[0][1])\n",
    "type(x[1][0])\n",
    "type(x[1][1])"
   ]
  },
  {
   "cell_type": "code",
   "execution_count": null,
   "metadata": {},
   "outputs": [],
   "source": [
    "numpy.array([] ,ndim=0,dtype=None)"
   ]
  },
  {
   "cell_type": "markdown",
   "metadata": {},
   "source": [
    "\n",
    "##### Creating an array from sub-classes:"
   ]
  },
  {
   "cell_type": "code",
   "execution_count": null,
   "metadata": {},
   "outputs": [],
   "source": []
  },
  {
   "cell_type": "code",
   "execution_count": 52,
   "metadata": {},
   "outputs": [
    {
     "data": {
      "text/plain": [
       "(2, 2)"
      ]
     },
     "execution_count": 52,
     "metadata": {},
     "output_type": "execute_result"
    }
   ],
   "source": [
    "a = np.mat(np.array([[1, 2],[4,7]]))\n",
    "a.shape"
   ]
  },
  {
   "cell_type": "code",
   "execution_count": 53,
   "metadata": {},
   "outputs": [
    {
     "data": {
      "text/plain": [
       "(2, 3)"
      ]
     },
     "execution_count": 53,
     "metadata": {},
     "output_type": "execute_result"
    },
    {
     "name": "stdout",
     "output_type": "stream",
     "text": [
      "3\n",
      "98\n"
     ]
    }
   ],
   "source": [
    "arr=np.mat(np.array([[1, 2,3],[98,7,67]]))\n",
    "arr.shape\n",
    "print(arr[0,2]) #3rd element on the 1 dimensin\n",
    "\n",
    "print(arr[1,0])"
   ]
  },
  {
   "cell_type": "code",
   "execution_count": 54,
   "metadata": {},
   "outputs": [
    {
     "data": {
      "text/plain": [
       "matrix([[1, 2],\n",
       "        [3, 5],\n",
       "        [3, 4]])"
      ]
     },
     "execution_count": 54,
     "metadata": {},
     "output_type": "execute_result"
    }
   ],
   "source": [
    "np.mat('1 2; 3 5;3 4')"
   ]
  },
  {
   "cell_type": "markdown",
   "metadata": {},
   "source": [
    "# numpy.asarray\n",
    "- Convert the input to an array.\n",
    "- Convert a list into an array:"
   ]
  },
  {
   "cell_type": "code",
   "execution_count": 55,
   "metadata": {},
   "outputs": [
    {
     "data": {
      "text/plain": [
       "list"
      ]
     },
     "execution_count": 55,
     "metadata": {},
     "output_type": "execute_result"
    }
   ],
   "source": [
    " a = [1, 2]\n",
    "type(a)"
   ]
  },
  {
   "cell_type": "code",
   "execution_count": 56,
   "metadata": {},
   "outputs": [
    {
     "data": {
      "text/plain": [
       "array([1, 2])"
      ]
     },
     "execution_count": 56,
     "metadata": {},
     "output_type": "execute_result"
    },
    {
     "data": {
      "text/plain": [
       "numpy.ndarray"
      ]
     },
     "execution_count": 56,
     "metadata": {},
     "output_type": "execute_result"
    }
   ],
   "source": [
    "b = np.asarray(a)\n",
    "b\n",
    "type(b)"
   ]
  },
  {
   "cell_type": "code",
   "execution_count": 57,
   "metadata": {},
   "outputs": [
    {
     "data": {
      "text/plain": [
       "numpy.ndarray"
      ]
     },
     "execution_count": 57,
     "metadata": {},
     "output_type": "execute_result"
    }
   ],
   "source": [
    "a = np.array([1, 2]) #Existing arrays are not copied\n",
    "type(a)"
   ]
  },
  {
   "cell_type": "code",
   "execution_count": 58,
   "metadata": {},
   "outputs": [
    {
     "data": {
      "text/plain": [
       "array([1, 2])"
      ]
     },
     "execution_count": 58,
     "metadata": {},
     "output_type": "execute_result"
    }
   ],
   "source": [
    "np.asarray((1,2))"
   ]
  },
  {
   "cell_type": "code",
   "execution_count": null,
   "metadata": {},
   "outputs": [],
   "source": [
    "#If dtype is set, array is copied only if dtype does not match:"
   ]
  },
  {
   "cell_type": "code",
   "execution_count": 59,
   "metadata": {},
   "outputs": [],
   "source": [
    "# np.int8\n",
    "# np.int16 ,32,64\n",
    "# np.float32,64\n"
   ]
  },
  {
   "cell_type": "code",
   "execution_count": 60,
   "metadata": {},
   "outputs": [
    {
     "data": {
      "text/plain": [
       "array([1., 2.])"
      ]
     },
     "execution_count": 60,
     "metadata": {},
     "output_type": "execute_result"
    },
    {
     "data": {
      "text/plain": [
       "numpy.float64"
      ]
     },
     "execution_count": 60,
     "metadata": {},
     "output_type": "execute_result"
    }
   ],
   "source": [
    "a = np.array([1, 2], dtype=np.float64)\n",
    "a\n",
    "type(a[0])"
   ]
  },
  {
   "cell_type": "code",
   "execution_count": 61,
   "metadata": {},
   "outputs": [
    {
     "data": {
      "text/plain": [
       "array([1., 2.])"
      ]
     },
     "execution_count": 61,
     "metadata": {},
     "output_type": "execute_result"
    },
    {
     "data": {
      "text/plain": [
       "numpy.ndarray"
      ]
     },
     "execution_count": 61,
     "metadata": {},
     "output_type": "execute_result"
    }
   ],
   "source": [
    "a\n",
    "type(a)"
   ]
  },
  {
   "cell_type": "code",
   "execution_count": 62,
   "metadata": {},
   "outputs": [
    {
     "data": {
      "text/plain": [
       "array([1, 2])"
      ]
     },
     "execution_count": 62,
     "metadata": {},
     "output_type": "execute_result"
    },
    {
     "data": {
      "text/plain": [
       "numpy.ndarray"
      ]
     },
     "execution_count": 62,
     "metadata": {},
     "output_type": "execute_result"
    },
    {
     "data": {
      "text/plain": [
       "1833590362928"
      ]
     },
     "execution_count": 62,
     "metadata": {},
     "output_type": "execute_result"
    },
    {
     "data": {
      "text/plain": [
       "1833589719952"
      ]
     },
     "execution_count": 62,
     "metadata": {},
     "output_type": "execute_result"
    },
    {
     "data": {
      "text/plain": [
       "False"
      ]
     },
     "execution_count": 62,
     "metadata": {},
     "output_type": "execute_result"
    }
   ],
   "source": [
    "b = np.asarray([1,2])\n",
    "b\n",
    "type(b) \n",
    "id(b)\n",
    "id(a)\n",
    "a is b"
   ]
  },
  {
   "cell_type": "code",
   "execution_count": 63,
   "metadata": {},
   "outputs": [
    {
     "data": {
      "text/plain": [
       "array([1, 2])"
      ]
     },
     "execution_count": 63,
     "metadata": {},
     "output_type": "execute_result"
    }
   ],
   "source": [
    "np.asarray([1,2])"
   ]
  },
  {
   "cell_type": "code",
   "execution_count": 64,
   "metadata": {},
   "outputs": [
    {
     "data": {
      "text/plain": [
       "1833590467344"
      ]
     },
     "execution_count": 64,
     "metadata": {},
     "output_type": "execute_result"
    }
   ],
   "source": [
    "id(np.asanyarray([1,2], dtype=np.float32))"
   ]
  },
  {
   "cell_type": "code",
   "execution_count": null,
   "metadata": {},
   "outputs": [],
   "source": [
    "id(a)"
   ]
  },
  {
   "cell_type": "code",
   "execution_count": 65,
   "metadata": {},
   "outputs": [
    {
     "data": {
      "text/plain": [
       "(140737403168848, 140737403168848)"
      ]
     },
     "execution_count": 65,
     "metadata": {},
     "output_type": "execute_result"
    },
    {
     "data": {
      "text/plain": [
       "True"
      ]
     },
     "execution_count": 65,
     "metadata": {},
     "output_type": "execute_result"
    }
   ],
   "source": [
    "a=10\n",
    "b=10\n",
    "id(a),id(b)\n",
    "a is b"
   ]
  },
  {
   "cell_type": "code",
   "execution_count": null,
   "metadata": {},
   "outputs": [],
   "source": [
    "# ndarray subclasses are not passed through"
   ]
  },
  {
   "cell_type": "code",
   "execution_count": 67,
   "metadata": {},
   "outputs": [
    {
     "data": {
      "text/plain": [
       "False"
      ]
     },
     "execution_count": 67,
     "metadata": {},
     "output_type": "execute_result"
    }
   ],
   "source": [
    "class B:\n",
    "    pass\n",
    "class A:\n",
    "    a=10\n",
    "obj=A()\n",
    "\n",
    "isinstance(obj,B)"
   ]
  },
  {
   "cell_type": "code",
   "execution_count": 70,
   "metadata": {},
   "outputs": [
    {
     "name": "stdout",
     "output_type": "stream",
     "text": [
      "True\n"
     ]
    }
   ],
   "source": [
    "class myAge:\n",
    "  age = 36\n",
    "\n",
    "class myObj(myAge):\n",
    "  name = \"John\"\n",
    "  age = myAge\n",
    "\n",
    "x = issubclass(myObj,myAge)\n",
    "print(x)"
   ]
  },
  {
   "cell_type": "code",
   "execution_count": 71,
   "metadata": {},
   "outputs": [
    {
     "data": {
      "text/plain": [
       "True"
      ]
     },
     "execution_count": 71,
     "metadata": {},
     "output_type": "execute_result"
    }
   ],
   "source": [
    "issubclass(np.matrix, np.ndarray)"
   ]
  },
  {
   "cell_type": "code",
   "execution_count": null,
   "metadata": {},
   "outputs": [],
   "source": [
    "### np.asanyarray(obj)"
   ]
  },
  {
   "cell_type": "code",
   "execution_count": 72,
   "metadata": {},
   "outputs": [
    {
     "name": "stdout",
     "output_type": "stream",
     "text": [
      "[[1 2]]\n"
     ]
    },
    {
     "data": {
      "text/plain": [
       "array([ 1, 23,  3])"
      ]
     },
     "execution_count": 72,
     "metadata": {},
     "output_type": "execute_result"
    }
   ],
   "source": [
    "a = np.matrix([[1, 2]])\n",
    "\n",
    "print(a)\n",
    "\n",
    "a=[1,23,3]\n",
    "# a={1,2,3,4}\n",
    "# a=(1,2,3,4)\n",
    "\n",
    "np.asanyarray(a)\n"
   ]
  },
  {
   "cell_type": "code",
   "execution_count": 73,
   "metadata": {},
   "outputs": [
    {
     "data": {
      "text/plain": [
       "False"
      ]
     },
     "execution_count": 73,
     "metadata": {},
     "output_type": "execute_result"
    }
   ],
   "source": [
    "np.asarray(a)  is a"
   ]
  },
  {
   "cell_type": "code",
   "execution_count": 74,
   "metadata": {},
   "outputs": [
    {
     "data": {
      "text/plain": [
       "True"
      ]
     },
     "execution_count": 74,
     "metadata": {},
     "output_type": "execute_result"
    }
   ],
   "source": [
    "a = np.asanyarray([1,2,3])\n",
    "b = a\n",
    "a is b "
   ]
  },
  {
   "cell_type": "markdown",
   "metadata": {},
   "source": [
    "#### numpy.copy"
   ]
  },
  {
   "cell_type": "code",
   "execution_count": 75,
   "metadata": {},
   "outputs": [
    {
     "data": {
      "text/plain": [
       "array([1, 2, 3])"
      ]
     },
     "execution_count": 75,
     "metadata": {},
     "output_type": "execute_result"
    }
   ],
   "source": [
    "np.array(a, copy=True)"
   ]
  },
  {
   "cell_type": "code",
   "execution_count": 76,
   "metadata": {},
   "outputs": [],
   "source": [
    "#Create an array x, with a reference y and a copy z:"
   ]
  },
  {
   "cell_type": "code",
   "execution_count": 78,
   "metadata": {},
   "outputs": [
    {
     "data": {
      "text/plain": [
       "(array([1, 2, 3]), numpy.ndarray)"
      ]
     },
     "execution_count": 78,
     "metadata": {},
     "output_type": "execute_result"
    }
   ],
   "source": [
    "x = np.array([1, 2, 3])\n",
    "x , type(x)"
   ]
  },
  {
   "cell_type": "code",
   "execution_count": 79,
   "metadata": {},
   "outputs": [
    {
     "data": {
      "text/plain": [
       "array([1, 2, 3])"
      ]
     },
     "execution_count": 79,
     "metadata": {},
     "output_type": "execute_result"
    }
   ],
   "source": [
    "y = x #alias\n",
    "y"
   ]
  },
  {
   "cell_type": "code",
   "execution_count": 80,
   "metadata": {},
   "outputs": [
    {
     "data": {
      "text/plain": [
       "array([1, 2, 3])"
      ]
     },
     "execution_count": 80,
     "metadata": {},
     "output_type": "execute_result"
    }
   ],
   "source": [
    "z = np.copy(x)\n",
    "z"
   ]
  },
  {
   "cell_type": "code",
   "execution_count": 81,
   "metadata": {},
   "outputs": [
    {
     "data": {
      "text/plain": [
       "array([1, 2, 3])"
      ]
     },
     "execution_count": 81,
     "metadata": {},
     "output_type": "execute_result"
    },
    {
     "data": {
      "text/plain": [
       "array([1, 2, 3])"
      ]
     },
     "execution_count": 81,
     "metadata": {},
     "output_type": "execute_result"
    },
    {
     "data": {
      "text/plain": [
       "array([1, 2, 3])"
      ]
     },
     "execution_count": 81,
     "metadata": {},
     "output_type": "execute_result"
    }
   ],
   "source": [
    "x\n",
    "y\n",
    "z"
   ]
  },
  {
   "cell_type": "code",
   "execution_count": 82,
   "metadata": {},
   "outputs": [
    {
     "data": {
      "text/plain": [
       "(1833590523632, 1833590523632)"
      ]
     },
     "execution_count": 82,
     "metadata": {},
     "output_type": "execute_result"
    },
    {
     "data": {
      "text/plain": [
       "(1833590523632, 1833590522960)"
      ]
     },
     "execution_count": 82,
     "metadata": {},
     "output_type": "execute_result"
    },
    {
     "data": {
      "text/plain": [
       "(1833590522960, 1833590523632)"
      ]
     },
     "execution_count": 82,
     "metadata": {},
     "output_type": "execute_result"
    }
   ],
   "source": [
    "id(x) , id(y)\n",
    "id(y) , id(z)\n",
    "id(z) , id(x)"
   ]
  },
  {
   "cell_type": "code",
   "execution_count": 83,
   "metadata": {},
   "outputs": [
    {
     "data": {
      "text/plain": [
       "array([100,   2,   3])"
      ]
     },
     "execution_count": 83,
     "metadata": {},
     "output_type": "execute_result"
    }
   ],
   "source": [
    "y[0] = 100\n",
    "y"
   ]
  },
  {
   "cell_type": "code",
   "execution_count": 84,
   "metadata": {},
   "outputs": [
    {
     "data": {
      "text/plain": [
       "array([100,   2,   3])"
      ]
     },
     "execution_count": 84,
     "metadata": {},
     "output_type": "execute_result"
    }
   ],
   "source": [
    "x"
   ]
  },
  {
   "cell_type": "code",
   "execution_count": 85,
   "metadata": {},
   "outputs": [
    {
     "data": {
      "text/plain": [
       "array([1, 2, 3])"
      ]
     },
     "execution_count": 85,
     "metadata": {},
     "output_type": "execute_result"
    }
   ],
   "source": [
    "z"
   ]
  },
  {
   "cell_type": "code",
   "execution_count": 86,
   "metadata": {},
   "outputs": [],
   "source": [
    "z[0] = 200"
   ]
  },
  {
   "cell_type": "code",
   "execution_count": 87,
   "metadata": {},
   "outputs": [
    {
     "data": {
      "text/plain": [
       "1833590523632"
      ]
     },
     "execution_count": 87,
     "metadata": {},
     "output_type": "execute_result"
    }
   ],
   "source": [
    "id(x)"
   ]
  },
  {
   "cell_type": "code",
   "execution_count": 88,
   "metadata": {},
   "outputs": [
    {
     "data": {
      "text/plain": [
       "1833590523632"
      ]
     },
     "execution_count": 88,
     "metadata": {},
     "output_type": "execute_result"
    }
   ],
   "source": [
    "id(y)"
   ]
  },
  {
   "cell_type": "code",
   "execution_count": 89,
   "metadata": {},
   "outputs": [
    {
     "data": {
      "text/plain": [
       "array([100,   2,   3])"
      ]
     },
     "execution_count": 89,
     "metadata": {},
     "output_type": "execute_result"
    }
   ],
   "source": [
    "x"
   ]
  },
  {
   "cell_type": "code",
   "execution_count": 90,
   "metadata": {},
   "outputs": [
    {
     "data": {
      "text/plain": [
       "array([100,   2,   3])"
      ]
     },
     "execution_count": 90,
     "metadata": {},
     "output_type": "execute_result"
    }
   ],
   "source": [
    "y"
   ]
  },
  {
   "cell_type": "code",
   "execution_count": 91,
   "metadata": {},
   "outputs": [
    {
     "data": {
      "text/plain": [
       "1833590523632"
      ]
     },
     "execution_count": 91,
     "metadata": {},
     "output_type": "execute_result"
    }
   ],
   "source": [
    "id(x) "
   ]
  },
  {
   "cell_type": "code",
   "execution_count": 92,
   "metadata": {},
   "outputs": [
    {
     "data": {
      "text/plain": [
       "1833590522960"
      ]
     },
     "execution_count": 92,
     "metadata": {},
     "output_type": "execute_result"
    }
   ],
   "source": [
    "id(z)"
   ]
  },
  {
   "cell_type": "code",
   "execution_count": null,
   "metadata": {},
   "outputs": [],
   "source": []
  },
  {
   "cell_type": "code",
   "execution_count": null,
   "metadata": {},
   "outputs": [],
   "source": [
    "names = [\"IND\",\"US\",\"AUZ\"]\n",
    "\n",
    "a = names #alias\n",
    "\n",
    "b = names.copy()#copy will separate memory location.\n",
    "\n",
    "print(id(names), id(a))\n",
    "\n",
    "print(id(a), id(b))\n",
    "\n",
    "\n",
    "b[1] = \"USA\"\n",
    "\n",
    "print(names,a ,b)\n",
    "\n",
    "\n",
    "a[2]=\"ENG\"\n",
    "\n",
    "print(names,a,b)"
   ]
  },
  {
   "cell_type": "code",
   "execution_count": null,
   "metadata": {},
   "outputs": [],
   "source": []
  },
  {
   "cell_type": "markdown",
   "metadata": {},
   "source": [
    "# numpy.fromfunction"
   ]
  },
  {
   "cell_type": "code",
   "execution_count": 93,
   "metadata": {},
   "outputs": [],
   "source": [
    "#Construct an array by executing a function over each coordinate."
   ]
  },
  {
   "cell_type": "code",
   "execution_count": 94,
   "metadata": {},
   "outputs": [
    {
     "data": {
      "text/plain": [
       "array([[ True, False, False],\n",
       "       [False,  True, False],\n",
       "       [False, False,  True]])"
      ]
     },
     "execution_count": 94,
     "metadata": {},
     "output_type": "execute_result"
    }
   ],
   "source": [
    "import numpy as np\n",
    "\n",
    "np.fromfunction(lambda i, j: i == j, (3, 3), dtype=int)"
   ]
  },
  {
   "cell_type": "code",
   "execution_count": 96,
   "metadata": {},
   "outputs": [
    {
     "data": {
      "text/plain": [
       "array([[ 0,  1,  2],\n",
       "       [ 1,  2,  3],\n",
       "       [ 2,  3,  4],\n",
       "       [ 3,  4,  5],\n",
       "       [ 4,  5,  6],\n",
       "       [ 5,  6,  7],\n",
       "       [ 6,  7,  8],\n",
       "       [ 7,  8,  9],\n",
       "       [ 8,  9, 10],\n",
       "       [ 9, 10, 11]])"
      ]
     },
     "execution_count": 96,
     "metadata": {},
     "output_type": "execute_result"
    }
   ],
   "source": [
    "np.fromfunction(lambda i, j: i + j, (10, 3), dtype=int)"
   ]
  },
  {
   "cell_type": "code",
   "execution_count": null,
   "metadata": {},
   "outputs": [],
   "source": [
    "#Create a new 1-dimensional array from an iterable object."
   ]
  },
  {
   "cell_type": "code",
   "execution_count": 97,
   "metadata": {},
   "outputs": [
    {
     "data": {
      "text/plain": [
       "[0, 1, 4, 9, 16]"
      ]
     },
     "execution_count": 97,
     "metadata": {},
     "output_type": "execute_result"
    }
   ],
   "source": [
    "[x*x for x in range(5)]"
   ]
  },
  {
   "cell_type": "code",
   "execution_count": 98,
   "metadata": {},
   "outputs": [
    {
     "data": {
      "text/plain": [
       "<generator object <genexpr> at 0x000001AAEA850430>"
      ]
     },
     "execution_count": 98,
     "metadata": {},
     "output_type": "execute_result"
    }
   ],
   "source": [
    "iterable = (x*x for x in range(5))\n",
    "iterable"
   ]
  },
  {
   "cell_type": "code",
   "execution_count": 99,
   "metadata": {},
   "outputs": [
    {
     "data": {
      "text/plain": [
       "array([ 0.,  1.,  4.,  9., 16.])"
      ]
     },
     "execution_count": 99,
     "metadata": {},
     "output_type": "execute_result"
    }
   ],
   "source": [
    "np.fromiter(iterable, float)"
   ]
  },
  {
   "cell_type": "code",
   "execution_count": null,
   "metadata": {},
   "outputs": [],
   "source": [
    "#A new 1-D array initialized from text data in a string"
   ]
  },
  {
   "cell_type": "code",
   "execution_count": 100,
   "metadata": {},
   "outputs": [
    {
     "data": {
      "text/plain": [
       "array([234., 234.])"
      ]
     },
     "execution_count": 100,
     "metadata": {},
     "output_type": "execute_result"
    },
    {
     "data": {
      "text/plain": [
       "(2,)"
      ]
     },
     "execution_count": 100,
     "metadata": {},
     "output_type": "execute_result"
    }
   ],
   "source": [
    "a = np.fromstring('234->234',sep='->')\n",
    "a\n",
    "a.shape"
   ]
  },
  {
   "cell_type": "code",
   "execution_count": 101,
   "metadata": {},
   "outputs": [
    {
     "data": {
      "text/plain": [
       "array([1, 2])"
      ]
     },
     "execution_count": 101,
     "metadata": {},
     "output_type": "execute_result"
    }
   ],
   "source": [
    "np.fromstring('1, 2', dtype=int, sep=',')\n"
   ]
  },
  {
   "cell_type": "code",
   "execution_count": 102,
   "metadata": {},
   "outputs": [
    {
     "name": "stdout",
     "output_type": "stream",
     "text": [
      "sum of two numbers 10+20=30\n"
     ]
    }
   ],
   "source": [
    "a=10\n",
    "b=20\n",
    "print(f\"sum of two numbers {a}+{b}={a+b}\")"
   ]
  },
  {
   "cell_type": "markdown",
   "metadata": {},
   "source": [
    "# data types"
   ]
  },
  {
   "cell_type": "code",
   "execution_count": null,
   "metadata": {},
   "outputs": [],
   "source": [
    "np.array()\n",
    "np.asarray()\n",
    "np.mat()\n",
    "np.matrix()\n",
    "np.asanyarray()"
   ]
  },
  {
   "cell_type": "code",
   "execution_count": 103,
   "metadata": {},
   "outputs": [
    {
     "name": "stdout",
     "output_type": "stream",
     "text": [
      "Type of my list <class 'list'>\n",
      "Type/Class of this object: <class 'numpy.ndarray'>\n",
      "Here is the vector\n",
      "--------------------\n",
      " [1 2 3]\n"
     ]
    }
   ],
   "source": [
    "my_list = [1,2,3]\n",
    "print(\"Type of my list\",type(my_list))\n",
    "\n",
    "import numpy as np\n",
    "\n",
    "arr = np.array(my_list)\n",
    "\n",
    "print(\"Type/Class of this object:\",type(arr))\n",
    "print(\"Here is the vector\\n--------------------\\n\",arr)"
   ]
  },
  {
   "cell_type": "code",
   "execution_count": 104,
   "metadata": {},
   "outputs": [
    {
     "name": "stdout",
     "output_type": "stream",
     "text": [
      "Type/Class of this object: <class 'numpy.ndarray'>\n",
      "Here is the matrix\n",
      "----------\n",
      " [[1.1 2.  3. ]\n",
      " [4.  5.  6. ]\n",
      " [7.  8.  9. ]] \n",
      "----------\n",
      "Dimension of this matrix: 2\n",
      "Size of this matrix: 9\n",
      "Shape of this matrix: (3, 3)\n",
      "Data type of this matrix: float64\n"
     ]
    }
   ],
   "source": [
    "my_mat = [[1.1,2,3],[4,5,6],[7,8,9]]\n",
    "mat = np.asarray(my_mat)\n",
    "print(\"Type/Class of this object:\",type(mat))\n",
    "print(\"Here is the matrix\\n----------\\n\",mat,\"\\n----------\")\n",
    "print(\"Dimension of this matrix: \",mat.ndim,sep='') #ndim gives the dimensison, 2 for a matrix, 1 for a vector\n",
    "print(\"Size of this matrix: \", mat.size,sep='') #size gives the total number of elements\n",
    "print(\"Shape of this matrix: \", mat.shape,sep='') #shape gives the number of elements along each axes (dimension)\n",
    "print(\"Data type of this matrix: \", mat.dtype,sep='') #dtype gives the data type contained in the array\n"
   ]
  },
  {
   "cell_type": "code",
   "execution_count": 110,
   "metadata": {},
   "outputs": [
    {
     "name": "stdout",
     "output_type": "stream",
     "text": [
      "(3, 3)\n",
      "float64\n",
      "9\n",
      "2\n"
     ]
    }
   ],
   "source": [
    "my_mat = [[1.1,2,3],[4,5,6],[7,8,9]]\n",
    "mat = np.asarray(my_mat)\n",
    "print(mat.shape)\n",
    "\n",
    "print(mat.dtype)\n",
    "\n",
    "print(mat.size)\n",
    "\n",
    "print(mat.ndim)"
   ]
  },
  {
   "cell_type": "code",
   "execution_count": 111,
   "metadata": {},
   "outputs": [
    {
     "name": "stdout",
     "output_type": "stream",
     "text": [
      "Data type of the modified matrix: float64\n",
      "\n",
      "\n",
      "Even tuples can be converted to ndarrays...\n"
     ]
    }
   ],
   "source": [
    "my_mat = [[1.1,2,3],[4,5.2,6],[7,8.3,9]]\n",
    "mat = np.array(my_mat)\n",
    "print(\"Data type of the modified matrix: \", mat.dtype,sep='') #dtype gives the data type contained in the array\n",
    "print(\"\\n\\nEven tuples can be converted to ndarrays...\")\n"
   ]
  },
  {
   "cell_type": "code",
   "execution_count": 112,
   "metadata": {},
   "outputs": [
    {
     "name": "stdout",
     "output_type": "stream",
     "text": [
      "We write b = np.array([(1.5,2,3), (4,5,6)])\n",
      "Matrix made from tuples, not lists\n",
      "---------------------------------------\n",
      "[[1.5 2.  3. ]\n",
      " [4.  5.  6. ]]\n"
     ]
    }
   ],
   "source": [
    "b = np.array([(1.5,2,3), (4,5,6)])\n",
    "print(\"We write b = np.array([(1.5,2,3), (4,5,6)])\")\n",
    "print(\"Matrix made from tuples, not lists\\n---------------------------------------\")\n",
    "print(b)"
   ]
  },
  {
   "cell_type": "markdown",
   "metadata": {},
   "source": [
    "# arange and linspace"
   ]
  },
  {
   "cell_type": "code",
   "execution_count": 116,
   "metadata": {},
   "outputs": [
    {
     "data": {
      "text/plain": [
       "[2, 4, 6, 8]"
      ]
     },
     "execution_count": 116,
     "metadata": {},
     "output_type": "execute_result"
    }
   ],
   "source": [
    "list(range(2,10,2)) #integers "
   ]
  },
  {
   "cell_type": "code",
   "execution_count": 117,
   "metadata": {},
   "outputs": [
    {
     "ename": "TypeError",
     "evalue": "'float' object cannot be interpreted as an integer",
     "output_type": "error",
     "traceback": [
      "\u001b[1;31m---------------------------------------------------------------------------\u001b[0m",
      "\u001b[1;31mTypeError\u001b[0m                                 Traceback (most recent call last)",
      "\u001b[1;32m<ipython-input-117-7d0af8923713>\u001b[0m in \u001b[0;36m<module>\u001b[1;34m\u001b[0m\n\u001b[1;32m----> 1\u001b[1;33m \u001b[0mlist\u001b[0m\u001b[1;33m(\u001b[0m\u001b[0mrange\u001b[0m\u001b[1;33m(\u001b[0m\u001b[1;36m1.5\u001b[0m\u001b[1;33m,\u001b[0m\u001b[1;36m10.5\u001b[0m\u001b[1;33m)\u001b[0m\u001b[1;33m)\u001b[0m\u001b[1;33m\u001b[0m\u001b[1;33m\u001b[0m\u001b[0m\n\u001b[0m",
      "\u001b[1;31mTypeError\u001b[0m: 'float' object cannot be interpreted as an integer"
     ]
    }
   ],
   "source": [
    "list(range(1.5,10.5))"
   ]
  },
  {
   "cell_type": "code",
   "execution_count": 119,
   "metadata": {},
   "outputs": [
    {
     "data": {
      "text/plain": [
       "array([ 0,  2,  4,  6,  8, 10, 12, 14])"
      ]
     },
     "execution_count": 119,
     "metadata": {},
     "output_type": "execute_result"
    },
    {
     "data": {
      "text/plain": [
       "array([ 5. ,  7.3,  9.6, 11.9, 14.2])"
      ]
     },
     "execution_count": 119,
     "metadata": {},
     "output_type": "execute_result"
    }
   ],
   "source": [
    "np.arange(0,16,2)\n",
    "np.arange(5,16,2.3) # A series of numbers from low to high , it also takes the float values"
   ]
  },
  {
   "cell_type": "code",
   "execution_count": 120,
   "metadata": {},
   "outputs": [
    {
     "data": {
      "text/plain": [
       "array([ 5.5,  7.7,  9.9, 12.1, 14.3])"
      ]
     },
     "execution_count": 120,
     "metadata": {},
     "output_type": "execute_result"
    }
   ],
   "source": [
    "np.arange(5.5,16.5,2.2)"
   ]
  },
  {
   "cell_type": "code",
   "execution_count": 121,
   "metadata": {},
   "outputs": [
    {
     "data": {
      "text/plain": [
       "[5, 7, 9, 11, 13, 15]"
      ]
     },
     "execution_count": 121,
     "metadata": {},
     "output_type": "execute_result"
    }
   ],
   "source": [
    "list(range(5,16,2))"
   ]
  },
  {
   "cell_type": "code",
   "execution_count": 123,
   "metadata": {},
   "outputs": [
    {
     "data": {
      "text/plain": [
       "[50, 45, 40, 35, 30, 25, 20, 15, 10, 5, 0]"
      ]
     },
     "execution_count": 123,
     "metadata": {},
     "output_type": "execute_result"
    }
   ],
   "source": [
    "list(range(50,-1,-5))"
   ]
  },
  {
   "cell_type": "code",
   "execution_count": 124,
   "metadata": {},
   "outputs": [
    {
     "data": {
      "text/plain": [
       "array([50. , 44.8, 39.6, 34.4, 29.2, 24. , 18.8, 13.6,  8.4,  3.2])"
      ]
     },
     "execution_count": 124,
     "metadata": {},
     "output_type": "execute_result"
    }
   ],
   "source": [
    "np.arange(50,-1,-5.2)# Numbers spaced apart by 2"
   ]
  },
  {
   "cell_type": "code",
   "execution_count": 125,
   "metadata": {},
   "outputs": [
    {
     "data": {
      "text/plain": [
       "array([ 0. ,  2.5,  5. ,  7.5, 10. ])"
      ]
     },
     "execution_count": 125,
     "metadata": {},
     "output_type": "execute_result"
    }
   ],
   "source": [
    "np.arange(0,11,2.5) # Numbers spaced apart by 2.5"
   ]
  },
  {
   "cell_type": "code",
   "execution_count": 126,
   "metadata": {},
   "outputs": [
    {
     "data": {
      "text/plain": [
       "array([5., 0.])"
      ]
     },
     "execution_count": 126,
     "metadata": {},
     "output_type": "execute_result"
    }
   ],
   "source": [
    "np.arange(5.0,-1,-5)"
   ]
  },
  {
   "cell_type": "code",
   "execution_count": 128,
   "metadata": {},
   "outputs": [
    {
     "data": {
      "text/plain": [
       "[1]"
      ]
     },
     "execution_count": 128,
     "metadata": {},
     "output_type": "execute_result"
    }
   ],
   "source": [
    "list(range(1,2))"
   ]
  },
  {
   "cell_type": "code",
   "execution_count": 134,
   "metadata": {},
   "outputs": [
    {
     "data": {
      "text/plain": [
       "array([ 1.        ,  1.00900901,  1.01801802,  1.02702703,  1.03603604,\n",
       "        1.04504505,  1.05405405,  1.06306306,  1.07207207,  1.08108108,\n",
       "        1.09009009,  1.0990991 ,  1.10810811,  1.11711712,  1.12612613,\n",
       "        1.13513514,  1.14414414,  1.15315315,  1.16216216,  1.17117117,\n",
       "        1.18018018,  1.18918919,  1.1981982 ,  1.20720721,  1.21621622,\n",
       "        1.22522523,  1.23423423,  1.24324324,  1.25225225,  1.26126126,\n",
       "        1.27027027,  1.27927928,  1.28828829,  1.2972973 ,  1.30630631,\n",
       "        1.31531532,  1.32432432,  1.33333333,  1.34234234,  1.35135135,\n",
       "        1.36036036,  1.36936937,  1.37837838,  1.38738739,  1.3963964 ,\n",
       "        1.40540541,  1.41441441,  1.42342342,  1.43243243,  1.44144144,\n",
       "        1.45045045,  1.45945946,  1.46846847,  1.47747748,  1.48648649,\n",
       "        1.4954955 ,  1.5045045 ,  1.51351351,  1.52252252,  1.53153153,\n",
       "        1.54054054,  1.54954955,  1.55855856,  1.56756757,  1.57657658,\n",
       "        1.58558559,  1.59459459,  1.6036036 ,  1.61261261,  1.62162162,\n",
       "        1.63063063,  1.63963964,  1.64864865,  1.65765766,  1.66666667,\n",
       "        1.67567568,  1.68468468,  1.69369369,  1.7027027 ,  1.71171171,\n",
       "        1.72072072,  1.72972973,  1.73873874,  1.74774775,  1.75675676,\n",
       "        1.76576577,  1.77477477,  1.78378378,  1.79279279,  1.8018018 ,\n",
       "        1.81081081,  1.81981982,  1.82882883,  1.83783784,  1.84684685,\n",
       "        1.85585586,  1.86486486,  1.87387387,  1.88288288,  1.89189189,\n",
       "        1.9009009 ,  1.90990991,  1.91891892,  1.92792793,  1.93693694,\n",
       "        1.94594595,  1.95495495,  1.96396396,  1.97297297,  1.98198198,\n",
       "        1.99099099,  2.        ,  2.00900901,  2.01801802,  2.02702703,\n",
       "        2.03603604,  2.04504505,  2.05405405,  2.06306306,  2.07207207,\n",
       "        2.08108108,  2.09009009,  2.0990991 ,  2.10810811,  2.11711712,\n",
       "        2.12612613,  2.13513514,  2.14414414,  2.15315315,  2.16216216,\n",
       "        2.17117117,  2.18018018,  2.18918919,  2.1981982 ,  2.20720721,\n",
       "        2.21621622,  2.22522523,  2.23423423,  2.24324324,  2.25225225,\n",
       "        2.26126126,  2.27027027,  2.27927928,  2.28828829,  2.2972973 ,\n",
       "        2.30630631,  2.31531532,  2.32432432,  2.33333333,  2.34234234,\n",
       "        2.35135135,  2.36036036,  2.36936937,  2.37837838,  2.38738739,\n",
       "        2.3963964 ,  2.40540541,  2.41441441,  2.42342342,  2.43243243,\n",
       "        2.44144144,  2.45045045,  2.45945946,  2.46846847,  2.47747748,\n",
       "        2.48648649,  2.4954955 ,  2.5045045 ,  2.51351351,  2.52252252,\n",
       "        2.53153153,  2.54054054,  2.54954955,  2.55855856,  2.56756757,\n",
       "        2.57657658,  2.58558559,  2.59459459,  2.6036036 ,  2.61261261,\n",
       "        2.62162162,  2.63063063,  2.63963964,  2.64864865,  2.65765766,\n",
       "        2.66666667,  2.67567568,  2.68468468,  2.69369369,  2.7027027 ,\n",
       "        2.71171171,  2.72072072,  2.72972973,  2.73873874,  2.74774775,\n",
       "        2.75675676,  2.76576577,  2.77477477,  2.78378378,  2.79279279,\n",
       "        2.8018018 ,  2.81081081,  2.81981982,  2.82882883,  2.83783784,\n",
       "        2.84684685,  2.85585586,  2.86486486,  2.87387387,  2.88288288,\n",
       "        2.89189189,  2.9009009 ,  2.90990991,  2.91891892,  2.92792793,\n",
       "        2.93693694,  2.94594595,  2.95495495,  2.96396396,  2.97297297,\n",
       "        2.98198198,  2.99099099,  3.        ,  3.00900901,  3.01801802,\n",
       "        3.02702703,  3.03603604,  3.04504505,  3.05405405,  3.06306306,\n",
       "        3.07207207,  3.08108108,  3.09009009,  3.0990991 ,  3.10810811,\n",
       "        3.11711712,  3.12612613,  3.13513514,  3.14414414,  3.15315315,\n",
       "        3.16216216,  3.17117117,  3.18018018,  3.18918919,  3.1981982 ,\n",
       "        3.20720721,  3.21621622,  3.22522523,  3.23423423,  3.24324324,\n",
       "        3.25225225,  3.26126126,  3.27027027,  3.27927928,  3.28828829,\n",
       "        3.2972973 ,  3.30630631,  3.31531532,  3.32432432,  3.33333333,\n",
       "        3.34234234,  3.35135135,  3.36036036,  3.36936937,  3.37837838,\n",
       "        3.38738739,  3.3963964 ,  3.40540541,  3.41441441,  3.42342342,\n",
       "        3.43243243,  3.44144144,  3.45045045,  3.45945946,  3.46846847,\n",
       "        3.47747748,  3.48648649,  3.4954955 ,  3.5045045 ,  3.51351351,\n",
       "        3.52252252,  3.53153153,  3.54054054,  3.54954955,  3.55855856,\n",
       "        3.56756757,  3.57657658,  3.58558559,  3.59459459,  3.6036036 ,\n",
       "        3.61261261,  3.62162162,  3.63063063,  3.63963964,  3.64864865,\n",
       "        3.65765766,  3.66666667,  3.67567568,  3.68468468,  3.69369369,\n",
       "        3.7027027 ,  3.71171171,  3.72072072,  3.72972973,  3.73873874,\n",
       "        3.74774775,  3.75675676,  3.76576577,  3.77477477,  3.78378378,\n",
       "        3.79279279,  3.8018018 ,  3.81081081,  3.81981982,  3.82882883,\n",
       "        3.83783784,  3.84684685,  3.85585586,  3.86486486,  3.87387387,\n",
       "        3.88288288,  3.89189189,  3.9009009 ,  3.90990991,  3.91891892,\n",
       "        3.92792793,  3.93693694,  3.94594595,  3.95495495,  3.96396396,\n",
       "        3.97297297,  3.98198198,  3.99099099,  4.        ,  4.00900901,\n",
       "        4.01801802,  4.02702703,  4.03603604,  4.04504505,  4.05405405,\n",
       "        4.06306306,  4.07207207,  4.08108108,  4.09009009,  4.0990991 ,\n",
       "        4.10810811,  4.11711712,  4.12612613,  4.13513514,  4.14414414,\n",
       "        4.15315315,  4.16216216,  4.17117117,  4.18018018,  4.18918919,\n",
       "        4.1981982 ,  4.20720721,  4.21621622,  4.22522523,  4.23423423,\n",
       "        4.24324324,  4.25225225,  4.26126126,  4.27027027,  4.27927928,\n",
       "        4.28828829,  4.2972973 ,  4.30630631,  4.31531532,  4.32432432,\n",
       "        4.33333333,  4.34234234,  4.35135135,  4.36036036,  4.36936937,\n",
       "        4.37837838,  4.38738739,  4.3963964 ,  4.40540541,  4.41441441,\n",
       "        4.42342342,  4.43243243,  4.44144144,  4.45045045,  4.45945946,\n",
       "        4.46846847,  4.47747748,  4.48648649,  4.4954955 ,  4.5045045 ,\n",
       "        4.51351351,  4.52252252,  4.53153153,  4.54054054,  4.54954955,\n",
       "        4.55855856,  4.56756757,  4.57657658,  4.58558559,  4.59459459,\n",
       "        4.6036036 ,  4.61261261,  4.62162162,  4.63063063,  4.63963964,\n",
       "        4.64864865,  4.65765766,  4.66666667,  4.67567568,  4.68468468,\n",
       "        4.69369369,  4.7027027 ,  4.71171171,  4.72072072,  4.72972973,\n",
       "        4.73873874,  4.74774775,  4.75675676,  4.76576577,  4.77477477,\n",
       "        4.78378378,  4.79279279,  4.8018018 ,  4.81081081,  4.81981982,\n",
       "        4.82882883,  4.83783784,  4.84684685,  4.85585586,  4.86486486,\n",
       "        4.87387387,  4.88288288,  4.89189189,  4.9009009 ,  4.90990991,\n",
       "        4.91891892,  4.92792793,  4.93693694,  4.94594595,  4.95495495,\n",
       "        4.96396396,  4.97297297,  4.98198198,  4.99099099,  5.        ,\n",
       "        5.00900901,  5.01801802,  5.02702703,  5.03603604,  5.04504505,\n",
       "        5.05405405,  5.06306306,  5.07207207,  5.08108108,  5.09009009,\n",
       "        5.0990991 ,  5.10810811,  5.11711712,  5.12612613,  5.13513514,\n",
       "        5.14414414,  5.15315315,  5.16216216,  5.17117117,  5.18018018,\n",
       "        5.18918919,  5.1981982 ,  5.20720721,  5.21621622,  5.22522523,\n",
       "        5.23423423,  5.24324324,  5.25225225,  5.26126126,  5.27027027,\n",
       "        5.27927928,  5.28828829,  5.2972973 ,  5.30630631,  5.31531532,\n",
       "        5.32432432,  5.33333333,  5.34234234,  5.35135135,  5.36036036,\n",
       "        5.36936937,  5.37837838,  5.38738739,  5.3963964 ,  5.40540541,\n",
       "        5.41441441,  5.42342342,  5.43243243,  5.44144144,  5.45045045,\n",
       "        5.45945946,  5.46846847,  5.47747748,  5.48648649,  5.4954955 ,\n",
       "        5.5045045 ,  5.51351351,  5.52252252,  5.53153153,  5.54054054,\n",
       "        5.54954955,  5.55855856,  5.56756757,  5.57657658,  5.58558559,\n",
       "        5.59459459,  5.6036036 ,  5.61261261,  5.62162162,  5.63063063,\n",
       "        5.63963964,  5.64864865,  5.65765766,  5.66666667,  5.67567568,\n",
       "        5.68468468,  5.69369369,  5.7027027 ,  5.71171171,  5.72072072,\n",
       "        5.72972973,  5.73873874,  5.74774775,  5.75675676,  5.76576577,\n",
       "        5.77477477,  5.78378378,  5.79279279,  5.8018018 ,  5.81081081,\n",
       "        5.81981982,  5.82882883,  5.83783784,  5.84684685,  5.85585586,\n",
       "        5.86486486,  5.87387387,  5.88288288,  5.89189189,  5.9009009 ,\n",
       "        5.90990991,  5.91891892,  5.92792793,  5.93693694,  5.94594595,\n",
       "        5.95495495,  5.96396396,  5.97297297,  5.98198198,  5.99099099,\n",
       "        6.        ,  6.00900901,  6.01801802,  6.02702703,  6.03603604,\n",
       "        6.04504505,  6.05405405,  6.06306306,  6.07207207,  6.08108108,\n",
       "        6.09009009,  6.0990991 ,  6.10810811,  6.11711712,  6.12612613,\n",
       "        6.13513514,  6.14414414,  6.15315315,  6.16216216,  6.17117117,\n",
       "        6.18018018,  6.18918919,  6.1981982 ,  6.20720721,  6.21621622,\n",
       "        6.22522523,  6.23423423,  6.24324324,  6.25225225,  6.26126126,\n",
       "        6.27027027,  6.27927928,  6.28828829,  6.2972973 ,  6.30630631,\n",
       "        6.31531532,  6.32432432,  6.33333333,  6.34234234,  6.35135135,\n",
       "        6.36036036,  6.36936937,  6.37837838,  6.38738739,  6.3963964 ,\n",
       "        6.40540541,  6.41441441,  6.42342342,  6.43243243,  6.44144144,\n",
       "        6.45045045,  6.45945946,  6.46846847,  6.47747748,  6.48648649,\n",
       "        6.4954955 ,  6.5045045 ,  6.51351351,  6.52252252,  6.53153153,\n",
       "        6.54054054,  6.54954955,  6.55855856,  6.56756757,  6.57657658,\n",
       "        6.58558559,  6.59459459,  6.6036036 ,  6.61261261,  6.62162162,\n",
       "        6.63063063,  6.63963964,  6.64864865,  6.65765766,  6.66666667,\n",
       "        6.67567568,  6.68468468,  6.69369369,  6.7027027 ,  6.71171171,\n",
       "        6.72072072,  6.72972973,  6.73873874,  6.74774775,  6.75675676,\n",
       "        6.76576577,  6.77477477,  6.78378378,  6.79279279,  6.8018018 ,\n",
       "        6.81081081,  6.81981982,  6.82882883,  6.83783784,  6.84684685,\n",
       "        6.85585586,  6.86486486,  6.87387387,  6.88288288,  6.89189189,\n",
       "        6.9009009 ,  6.90990991,  6.91891892,  6.92792793,  6.93693694,\n",
       "        6.94594595,  6.95495495,  6.96396396,  6.97297297,  6.98198198,\n",
       "        6.99099099,  7.        ,  7.00900901,  7.01801802,  7.02702703,\n",
       "        7.03603604,  7.04504505,  7.05405405,  7.06306306,  7.07207207,\n",
       "        7.08108108,  7.09009009,  7.0990991 ,  7.10810811,  7.11711712,\n",
       "        7.12612613,  7.13513514,  7.14414414,  7.15315315,  7.16216216,\n",
       "        7.17117117,  7.18018018,  7.18918919,  7.1981982 ,  7.20720721,\n",
       "        7.21621622,  7.22522523,  7.23423423,  7.24324324,  7.25225225,\n",
       "        7.26126126,  7.27027027,  7.27927928,  7.28828829,  7.2972973 ,\n",
       "        7.30630631,  7.31531532,  7.32432432,  7.33333333,  7.34234234,\n",
       "        7.35135135,  7.36036036,  7.36936937,  7.37837838,  7.38738739,\n",
       "        7.3963964 ,  7.40540541,  7.41441441,  7.42342342,  7.43243243,\n",
       "        7.44144144,  7.45045045,  7.45945946,  7.46846847,  7.47747748,\n",
       "        7.48648649,  7.4954955 ,  7.5045045 ,  7.51351351,  7.52252252,\n",
       "        7.53153153,  7.54054054,  7.54954955,  7.55855856,  7.56756757,\n",
       "        7.57657658,  7.58558559,  7.59459459,  7.6036036 ,  7.61261261,\n",
       "        7.62162162,  7.63063063,  7.63963964,  7.64864865,  7.65765766,\n",
       "        7.66666667,  7.67567568,  7.68468468,  7.69369369,  7.7027027 ,\n",
       "        7.71171171,  7.72072072,  7.72972973,  7.73873874,  7.74774775,\n",
       "        7.75675676,  7.76576577,  7.77477477,  7.78378378,  7.79279279,\n",
       "        7.8018018 ,  7.81081081,  7.81981982,  7.82882883,  7.83783784,\n",
       "        7.84684685,  7.85585586,  7.86486486,  7.87387387,  7.88288288,\n",
       "        7.89189189,  7.9009009 ,  7.90990991,  7.91891892,  7.92792793,\n",
       "        7.93693694,  7.94594595,  7.95495495,  7.96396396,  7.97297297,\n",
       "        7.98198198,  7.99099099,  8.        ,  8.00900901,  8.01801802,\n",
       "        8.02702703,  8.03603604,  8.04504505,  8.05405405,  8.06306306,\n",
       "        8.07207207,  8.08108108,  8.09009009,  8.0990991 ,  8.10810811,\n",
       "        8.11711712,  8.12612613,  8.13513514,  8.14414414,  8.15315315,\n",
       "        8.16216216,  8.17117117,  8.18018018,  8.18918919,  8.1981982 ,\n",
       "        8.20720721,  8.21621622,  8.22522523,  8.23423423,  8.24324324,\n",
       "        8.25225225,  8.26126126,  8.27027027,  8.27927928,  8.28828829,\n",
       "        8.2972973 ,  8.30630631,  8.31531532,  8.32432432,  8.33333333,\n",
       "        8.34234234,  8.35135135,  8.36036036,  8.36936937,  8.37837838,\n",
       "        8.38738739,  8.3963964 ,  8.40540541,  8.41441441,  8.42342342,\n",
       "        8.43243243,  8.44144144,  8.45045045,  8.45945946,  8.46846847,\n",
       "        8.47747748,  8.48648649,  8.4954955 ,  8.5045045 ,  8.51351351,\n",
       "        8.52252252,  8.53153153,  8.54054054,  8.54954955,  8.55855856,\n",
       "        8.56756757,  8.57657658,  8.58558559,  8.59459459,  8.6036036 ,\n",
       "        8.61261261,  8.62162162,  8.63063063,  8.63963964,  8.64864865,\n",
       "        8.65765766,  8.66666667,  8.67567568,  8.68468468,  8.69369369,\n",
       "        8.7027027 ,  8.71171171,  8.72072072,  8.72972973,  8.73873874,\n",
       "        8.74774775,  8.75675676,  8.76576577,  8.77477477,  8.78378378,\n",
       "        8.79279279,  8.8018018 ,  8.81081081,  8.81981982,  8.82882883,\n",
       "        8.83783784,  8.84684685,  8.85585586,  8.86486486,  8.87387387,\n",
       "        8.88288288,  8.89189189,  8.9009009 ,  8.90990991,  8.91891892,\n",
       "        8.92792793,  8.93693694,  8.94594595,  8.95495495,  8.96396396,\n",
       "        8.97297297,  8.98198198,  8.99099099,  9.        ,  9.00900901,\n",
       "        9.01801802,  9.02702703,  9.03603604,  9.04504505,  9.05405405,\n",
       "        9.06306306,  9.07207207,  9.08108108,  9.09009009,  9.0990991 ,\n",
       "        9.10810811,  9.11711712,  9.12612613,  9.13513514,  9.14414414,\n",
       "        9.15315315,  9.16216216,  9.17117117,  9.18018018,  9.18918919,\n",
       "        9.1981982 ,  9.20720721,  9.21621622,  9.22522523,  9.23423423,\n",
       "        9.24324324,  9.25225225,  9.26126126,  9.27027027,  9.27927928,\n",
       "        9.28828829,  9.2972973 ,  9.30630631,  9.31531532,  9.32432432,\n",
       "        9.33333333,  9.34234234,  9.35135135,  9.36036036,  9.36936937,\n",
       "        9.37837838,  9.38738739,  9.3963964 ,  9.40540541,  9.41441441,\n",
       "        9.42342342,  9.43243243,  9.44144144,  9.45045045,  9.45945946,\n",
       "        9.46846847,  9.47747748,  9.48648649,  9.4954955 ,  9.5045045 ,\n",
       "        9.51351351,  9.52252252,  9.53153153,  9.54054054,  9.54954955,\n",
       "        9.55855856,  9.56756757,  9.57657658,  9.58558559,  9.59459459,\n",
       "        9.6036036 ,  9.61261261,  9.62162162,  9.63063063,  9.63963964,\n",
       "        9.64864865,  9.65765766,  9.66666667,  9.67567568,  9.68468468,\n",
       "        9.69369369,  9.7027027 ,  9.71171171,  9.72072072,  9.72972973,\n",
       "        9.73873874,  9.74774775,  9.75675676,  9.76576577,  9.77477477,\n",
       "        9.78378378,  9.79279279,  9.8018018 ,  9.81081081,  9.81981982,\n",
       "        9.82882883,  9.83783784,  9.84684685,  9.85585586,  9.86486486,\n",
       "        9.87387387,  9.88288288,  9.89189189,  9.9009009 ,  9.90990991,\n",
       "        9.91891892,  9.92792793,  9.93693694,  9.94594595,  9.95495495,\n",
       "        9.96396396,  9.97297297,  9.98198198,  9.99099099, 10.        ])"
      ]
     },
     "execution_count": 134,
     "metadata": {},
     "output_type": "execute_result"
    }
   ],
   "source": [
    "#printing the numbers in the given range \n",
    "(np.linspace(1,10,1000))#start, stop , nums"
   ]
  },
  {
   "cell_type": "markdown",
   "metadata": {},
   "source": [
    "# Matrix creation"
   ]
  },
  {
   "cell_type": "code",
   "execution_count": 135,
   "metadata": {},
   "outputs": [
    {
     "name": "stdout",
     "output_type": "stream",
     "text": [
      "Vector of zeroes\n",
      "---------------------\n",
      "[0. 0. 0. 0. 0. 0. 0. 0. 0. 0.]\n"
     ]
    }
   ],
   "source": [
    "print(\"Vector of zeroes\\n---------------------\")\n",
    "print(np.zeros(10))"
   ]
  },
  {
   "cell_type": "code",
   "execution_count": null,
   "metadata": {},
   "outputs": [],
   "source": [
    "print(\"Matrix of zeroes\\n--------------------\")\n",
    "print(np.zeros((6,7))) # Notice Tuples"
   ]
  },
  {
   "cell_type": "code",
   "execution_count": null,
   "metadata": {},
   "outputs": [],
   "source": [
    "print(\"Vector of ones\\n---------------------\")\n",
    "print(np.ones(5))"
   ]
  },
  {
   "cell_type": "code",
   "execution_count": null,
   "metadata": {},
   "outputs": [],
   "source": [
    "print(\"Matrix of ones\\n---------------------\")\n",
    "a=np.ones([5,2,8])\n",
    "a# Note matrix dimension specified by Tuples\n",
    "a.shape\n",
    "a.size\n",
    "a[0][0][0]"
   ]
  },
  {
   "cell_type": "code",
   "execution_count": null,
   "metadata": {},
   "outputs": [],
   "source": [
    "print(\"Matrix of 5's\\n---------------------\")\n",
    "print(5+np.ones((3,5)))"
   ]
  },
  {
   "cell_type": "code",
   "execution_count": null,
   "metadata": {},
   "outputs": [],
   "source": [
    "print(\"Empty matrix\\n-------------\\n\", np.empty((2,3)))"
   ]
  },
  {
   "cell_type": "code",
   "execution_count": null,
   "metadata": {
    "scrolled": true
   },
   "outputs": [],
   "source": [
    "mat1 = np.eye(4) \n",
    "print(\"Identity matrix of dimension\", mat1.shape)\n",
    "print(mat1)"
   ]
  },
  {
   "cell_type": "code",
   "execution_count": null,
   "metadata": {},
   "outputs": [],
   "source": [
    "np.arange(3)"
   ]
  },
  {
   "cell_type": "code",
   "execution_count": null,
   "metadata": {},
   "outputs": [],
   "source": [
    "np.arange(3.0)"
   ]
  },
  {
   "cell_type": "code",
   "execution_count": null,
   "metadata": {},
   "outputs": [],
   "source": [
    " np.arange(3,7)"
   ]
  },
  {
   "cell_type": "code",
   "execution_count": null,
   "metadata": {},
   "outputs": [],
   "source": [
    "np.arange(3,7,2)"
   ]
  },
  {
   "cell_type": "code",
   "execution_count": null,
   "metadata": {},
   "outputs": [],
   "source": [
    "np.linspace(2.0, 3.0, num=100)"
   ]
  },
  {
   "cell_type": "code",
   "execution_count": null,
   "metadata": {},
   "outputs": [],
   "source": [
    "np.linspace(2.0, 3.0, num=5, endpoint=True)"
   ]
  },
  {
   "cell_type": "code",
   "execution_count": null,
   "metadata": {},
   "outputs": [],
   "source": [
    "np.linspace(2.0, 3.0, num=9, retstep=True)"
   ]
  },
  {
   "cell_type": "code",
   "execution_count": null,
   "metadata": {},
   "outputs": [],
   "source": [
    "import numpy as np\n",
    "np.logspace(2.0, 3.0, num=10,base = 10)"
   ]
  },
  {
   "cell_type": "code",
   "execution_count": null,
   "metadata": {},
   "outputs": [],
   "source": [
    "np.logspace(2.0, 3.0, num=4, endpoint=False)"
   ]
  },
  {
   "cell_type": "code",
   "execution_count": null,
   "metadata": {},
   "outputs": [],
   "source": [
    "np.logspace(2.0, 3.0, num=20, base=2.0)"
   ]
  },
  {
   "cell_type": "code",
   "execution_count": null,
   "metadata": {},
   "outputs": [],
   "source": [
    "#Extract a diagonal or construct a diagonal array."
   ]
  },
  {
   "cell_type": "code",
   "execution_count": null,
   "metadata": {},
   "outputs": [],
   "source": [
    "x = np.arange(16)\n",
    "x"
   ]
  },
  {
   "cell_type": "code",
   "execution_count": null,
   "metadata": {},
   "outputs": [],
   "source": [
    "x.shape\n",
    "x"
   ]
  },
  {
   "cell_type": "code",
   "execution_count": null,
   "metadata": {},
   "outputs": [],
   "source": [
    "x.reshape(4,4)"
   ]
  },
  {
   "cell_type": "code",
   "execution_count": null,
   "metadata": {},
   "outputs": [],
   "source": [
    "x = np.array([[1,2,3,4],[5,6,7,78],[11,22,33,44],[23,32,12,45]])\n",
    "x\n",
    "np.diag(x) #print only dialgnol elements"
   ]
  },
  {
   "cell_type": "code",
   "execution_count": null,
   "metadata": {},
   "outputs": [],
   "source": [
    "np.diag(x, k=-3)"
   ]
  },
  {
   "cell_type": "code",
   "execution_count": null,
   "metadata": {},
   "outputs": [],
   "source": [
    "np.diag(x, k=-1)"
   ]
  },
  {
   "cell_type": "code",
   "execution_count": null,
   "metadata": {},
   "outputs": [],
   "source": [
    "np.diag(np.diag(x))"
   ]
  },
  {
   "cell_type": "markdown",
   "metadata": {},
   "source": [
    "# Random number generation"
   ]
  },
  {
   "cell_type": "code",
   "execution_count": null,
   "metadata": {},
   "outputs": [],
   "source": [
    "import random as rd\n",
    "\n",
    "dir(rd)"
   ]
  },
  {
   "cell_type": "code",
   "execution_count": null,
   "metadata": {},
   "outputs": [],
   "source": [
    "for i in range(1,10): print(rd.randint(1,10)) #int"
   ]
  },
  {
   "cell_type": "code",
   "execution_count": null,
   "metadata": {},
   "outputs": [],
   "source": [
    "rd.random() #float"
   ]
  },
  {
   "cell_type": "code",
   "execution_count": null,
   "metadata": {},
   "outputs": [],
   "source": [
    "for i in range(10): print(rd.randrange(1,10,2))"
   ]
  },
  {
   "cell_type": "code",
   "execution_count": null,
   "metadata": {},
   "outputs": [],
   "source": [
    "from numpy.random import *"
   ]
  },
  {
   "cell_type": "code",
   "execution_count": null,
   "metadata": {},
   "outputs": [],
   "source": [
    "\n",
    "\n",
    "rand(2,2)"
   ]
  },
  {
   "cell_type": "code",
   "execution_count": null,
   "metadata": {},
   "outputs": [],
   "source": [
    "print(\"Random number generation (from Uniform distribution)\")\n",
    "print(np.random.rand(2,3)) # 2 by 3 matrix with random numbers ranging from 0 to 1, Note no Tuple is necessary "
   ]
  },
  {
   "cell_type": "code",
   "execution_count": null,
   "metadata": {},
   "outputs": [],
   "source": [
    "np.random.rand(1000)"
   ]
  },
  {
   "cell_type": "code",
   "execution_count": null,
   "metadata": {},
   "outputs": [],
   "source": [
    "import pandas as pd\n",
    "\n",
    "df = pd.DataFrame(np.random.rand(1000)) #uniform distribution\n",
    "# df.plot()"
   ]
  },
  {
   "cell_type": "code",
   "execution_count": null,
   "metadata": {},
   "outputs": [],
   "source": [
    "df"
   ]
  },
  {
   "cell_type": "code",
   "execution_count": null,
   "metadata": {},
   "outputs": [],
   "source": [
    "type(df)"
   ]
  },
  {
   "cell_type": "code",
   "execution_count": null,
   "metadata": {},
   "outputs": [],
   "source": [
    "df.plot()"
   ]
  },
  {
   "cell_type": "code",
   "execution_count": null,
   "metadata": {},
   "outputs": [],
   "source": [
    "print(\"Numbers from Normal distribution with zero mean and standard deviation 1 i.e. standard normal\")\n",
    "print(np.random.randn(4))"
   ]
  },
  {
   "cell_type": "code",
   "execution_count": null,
   "metadata": {},
   "outputs": [],
   "source": [
    "import pandas as pd\n",
    "\n",
    "df = pd.DataFrame(np.random.randn(10000))\n",
    "df.plot()"
   ]
  },
  {
   "cell_type": "code",
   "execution_count": null,
   "metadata": {},
   "outputs": [],
   "source": [
    "print(\"Random integer vector:\",np.random.randint(1,10)) #randint (low, high, # of samples to be drawn)\n",
    "print (\"\\nRandom integer matrix\")\n"
   ]
  },
  {
   "cell_type": "code",
   "execution_count": null,
   "metadata": {
    "scrolled": true
   },
   "outputs": [],
   "source": [
    "print(np.random.randint(1,100,(4,4))) #randint (low, high, # of samples to be drawn in a tuple to form a matrix)\n",
    "print(\"\\n20 samples drawn from a dice throw:\",np.random.randint(1,7,20)) # 20 samples drawn from a dice throw"
   ]
  },
  {
   "cell_type": "markdown",
   "metadata": {},
   "source": [
    "# Reshaping"
   ]
  },
  {
   "cell_type": "code",
   "execution_count": null,
   "metadata": {},
   "outputs": [],
   "source": [
    "from numpy.random import randint as ri\n",
    "a = ri(1,50,30)\n",
    "# print(a)\n",
    "\n",
    "# print(a.shape)\n",
    "\n",
    "# b = a.reshape(2,3,5)\n",
    "# print(b)\n",
    "# print(b.shape)\n",
    "\n",
    "c = a.reshape(6,-1)\n",
    "c\n",
    "print(c)\n",
    "a.reshape(15,2)"
   ]
  },
  {
   "cell_type": "code",
   "execution_count": null,
   "metadata": {},
   "outputs": [],
   "source": [
    "print (\"Shape of a:\", a.shape)\n",
    "print (\"Shape of b:\", b.shape)\n",
    "print (\"Shape of c:\", c.shape)\n"
   ]
  },
  {
   "cell_type": "code",
   "execution_count": null,
   "metadata": {},
   "outputs": [],
   "source": [
    "print(\"\\na looks like\\n\",'-'*20,\"\\n\",a,\"\\n\",'-'*20)\n",
    "print(\"\\nb looks like\\n\",'-'*20,\"\\n\",b,\"\\n\",'-'*20)\n",
    "print(\"\\nc looks like\\n\",'-'*20,\"\\n\",c,\"\\n\",'-'*20)\n"
   ]
  },
  {
   "cell_type": "code",
   "execution_count": null,
   "metadata": {},
   "outputs": [],
   "source": [
    "from numpy.random import randint as ri"
   ]
  },
  {
   "cell_type": "code",
   "execution_count": null,
   "metadata": {},
   "outputs": [],
   "source": [
    "ri(1,10,(2,2))\n",
    "np.random.seed(123)"
   ]
  },
  {
   "cell_type": "code",
   "execution_count": null,
   "metadata": {},
   "outputs": [],
   "source": [
    "A = ri(1,100,10)# Vector of random interegrs\n",
    "np.random.seed(123)\n",
    "print(A)\n",
    "print(\"\\nVector of random integers\\n\",'-'*50,\"\\n\",A)\n",
    "print(\"\\nHere is the sorted vector\\n\",'-'*50,\"\\n\",-np.sort(-A))\n"
   ]
  },
  {
   "cell_type": "code",
   "execution_count": null,
   "metadata": {},
   "outputs": [],
   "source": [
    "M = ri(1,100,25).reshape(5,5) # Matrix of random interegrs\n",
    "#print(\"\\nHere is the sorted matrix along each row\\n\",'-'*50,\"\\n\",np.sort(M, kind='mergesort')) # Default axis =1\n",
    "print(\"\\nHere is the sorted matrix along each column\\n\",'-'*50,\"\\n\",np.sort(M, axis=1, kind='mergesort'))\n",
    "M"
   ]
  },
  {
   "cell_type": "code",
   "execution_count": null,
   "metadata": {},
   "outputs": [],
   "source": [
    "b"
   ]
  },
  {
   "cell_type": "code",
   "execution_count": null,
   "metadata": {},
   "outputs": [],
   "source": [
    "print(\"Max of a:\", M.max())\n",
    "print(\"Max of b:\", b.max())\n",
    "b"
   ]
  },
  {
   "cell_type": "code",
   "execution_count": null,
   "metadata": {},
   "outputs": [],
   "source": [
    "M"
   ]
  },
  {
   "cell_type": "code",
   "execution_count": null,
   "metadata": {},
   "outputs": [],
   "source": [
    "print(\"Max of a location:\", M.argmax(axis= 0))#axiz = 0 > row\n",
    "print(\"Max of b location:\", b.argmax())\n",
    "print(\"Max of c location:\", b.argmax())"
   ]
  },
  {
   "cell_type": "markdown",
   "metadata": {},
   "source": [
    "# Indexing and slicing"
   ]
  },
  {
   "cell_type": "code",
   "execution_count": null,
   "metadata": {},
   "outputs": [],
   "source": [
    "some_list = [\"ajka\",True,10,203]\n",
    "some_list[-1]"
   ]
  },
  {
   "cell_type": "code",
   "execution_count": null,
   "metadata": {},
   "outputs": [],
   "source": [
    "import numpy as np\n",
    "arr = np.arange(0,11)\n",
    "print(\"Array:\",arr)\n"
   ]
  },
  {
   "cell_type": "code",
   "execution_count": null,
   "metadata": {},
   "outputs": [],
   "source": [
    "print(\"Element at 7th index is:\", arr[7])\n"
   ]
  },
  {
   "cell_type": "code",
   "execution_count": null,
   "metadata": {},
   "outputs": [],
   "source": [
    "print(\"Elements from 3rd to 5th index are:\", arr[3:6])\n"
   ]
  },
  {
   "cell_type": "code",
   "execution_count": null,
   "metadata": {},
   "outputs": [],
   "source": []
  },
  {
   "cell_type": "code",
   "execution_count": null,
   "metadata": {},
   "outputs": [],
   "source": [
    "print(\"Elements up to 4th index are:\", arr[:4])\n",
    "arr"
   ]
  },
  {
   "cell_type": "code",
   "execution_count": null,
   "metadata": {},
   "outputs": [],
   "source": [
    "a = [ 0,  1,  2,  3,  4,  5,  6,  7,  8,  9, 10]\n",
    "a[-1:7:-1]"
   ]
  },
  {
   "cell_type": "code",
   "execution_count": null,
   "metadata": {},
   "outputs": [],
   "source": [
    "print(\"Elements from last backwards are:\", arr[-1:7:-1]) #-1 0 1 2 3 4 5 6 7\n"
   ]
  },
  {
   "cell_type": "code",
   "execution_count": null,
   "metadata": {},
   "outputs": [],
   "source": [
    "print(\"3 Elements from last backwards are:\", arr[-1:-6:2])\n"
   ]
  },
  {
   "cell_type": "code",
   "execution_count": null,
   "metadata": {},
   "outputs": [],
   "source": [
    "arr = np.arange(0,21,2)\n",
    "print(\"New array:\",arr)\n"
   ]
  },
  {
   "cell_type": "code",
   "execution_count": null,
   "metadata": {},
   "outputs": [],
   "source": [
    "print(\"Elements at 2nd, 4th, and 9th index are:\", arr[[2,4,9]]) # Pass a list as a index to subset"
   ]
  },
  {
   "cell_type": "code",
   "execution_count": null,
   "metadata": {},
   "outputs": [],
   "source": [
    "import numpy as np \n",
    "mat = np.array(np.linspace(10,100,30,dtype=int)).reshape(6,5)\n",
    "print(\"Matrix of random 2-digit numbers\\n--------------------------------\\n\",mat)\n"
   ]
  },
  {
   "cell_type": "code",
   "execution_count": null,
   "metadata": {},
   "outputs": [],
   "source": [
    "mat[1:4]\n",
    "# [rows,columns]"
   ]
  },
  {
   "cell_type": "code",
   "execution_count": null,
   "metadata": {},
   "outputs": [],
   "source": [
    "mat[2:5,1:4]"
   ]
  },
  {
   "cell_type": "code",
   "execution_count": null,
   "metadata": {},
   "outputs": [],
   "source": [
    "mat[:,[1,3,2]]"
   ]
  },
  {
   "cell_type": "code",
   "execution_count": null,
   "metadata": {},
   "outputs": [],
   "source": [
    "mat[0:3,[1,3]]\n",
    "mat"
   ]
  },
  {
   "cell_type": "code",
   "execution_count": null,
   "metadata": {},
   "outputs": [],
   "source": [
    "print(\"\\nDouble bracket indexing\\n------------------------\")\n",
    "print(\"Element in row index 1 and column index 2:\", mat[4][3])\n",
    "mat"
   ]
  },
  {
   "cell_type": "code",
   "execution_count": null,
   "metadata": {},
   "outputs": [],
   "source": [
    "print(\"\\nSingle bracket with comma indexing\\n----------------------------------\")\n",
    "print(\"Element in row index 1 and column index 2:\", mat[4,3])\n",
    "print(\"\\nRow or column extract\\n----------------------\")\n"
   ]
  },
  {
   "cell_type": "code",
   "execution_count": null,
   "metadata": {},
   "outputs": [],
   "source": [
    "print(\"Entire row at index 2:\", mat[2])\n",
    "print(\"Entire column at index 3:\", mat[:,3])\n"
   ]
  },
  {
   "cell_type": "code",
   "execution_count": null,
   "metadata": {},
   "outputs": [],
   "source": [
    "print(\"\\nSubsetting sub-matrices\\n--------------------------\")\n",
    "print(\"Matrix with row indices 1 and 2 and column indices 3 and 4\\n\", mat[1:3,3:5])\n"
   ]
  },
  {
   "cell_type": "code",
   "execution_count": null,
   "metadata": {},
   "outputs": [],
   "source": [
    "print(\"Matrix with row indices 0 and 1 and column indices 1 and 3\\n\", mat[0:2,[1,3]])"
   ]
  },
  {
   "cell_type": "markdown",
   "metadata": {},
   "source": [
    "# Array Math"
   ]
  },
  {
   "cell_type": "code",
   "execution_count": null,
   "metadata": {},
   "outputs": [],
   "source": [
    "import numpy as np\n",
    "\n",
    "from numpy.random import randint as ri"
   ]
  },
  {
   "cell_type": "code",
   "execution_count": null,
   "metadata": {},
   "outputs": [],
   "source": [
    "mat1 = np.array(ri(1,10,9)).reshape(3,3)\n",
    "mat2 = np.array(ri(1,10,9)).reshape(3,3)\n",
    "print(\"\\n1st Matrix of random single-digit numbers\\n\\n\",mat1)\n",
    "print(\"\\n2nd Matrix of random single-digit numbers\\n------------\\n\",mat2)\n"
   ]
  },
  {
   "cell_type": "code",
   "execution_count": null,
   "metadata": {},
   "outputs": [],
   "source": [
    "print(\"\\nSq-root of 1st matrix using np\\n------------------\\n\", np.sqrt(mat1))\n"
   ]
  },
  {
   "cell_type": "code",
   "execution_count": null,
   "metadata": {},
   "outputs": [],
   "source": [
    "print(\"\\nExponential power of 1st matrix using np\\n\",'-'*50,\"\\n\", np.exp(mat1))\n"
   ]
  },
  {
   "cell_type": "code",
   "execution_count": null,
   "metadata": {},
   "outputs": [],
   "source": [
    "print(\"\\n10-base logarithm on 1st matrix using np\\n\",'-'*50,\"\\n\", np.log10(mat1))\n",
    "print(mat1)\n",
    "print(mat2)"
   ]
  },
  {
   "cell_type": "code",
   "execution_count": null,
   "metadata": {},
   "outputs": [],
   "source": [
    "print(\"\\nModulo reminder using np\\n\",'-'*50,\"\\n\", np.fmod(mat1,mat2))\n",
    "mat1%mat2"
   ]
  },
  {
   "cell_type": "code",
   "execution_count": null,
   "metadata": {},
   "outputs": [],
   "source": [
    "print(\"\\nCombination of functions by shwoing exponetial decay of a sine wave\\n\",'-'*70)"
   ]
  },
  {
   "cell_type": "code",
   "execution_count": null,
   "metadata": {},
   "outputs": [],
   "source": [
    "A = np.linspace(0,12*np.pi,1001)\n"
   ]
  },
  {
   "cell_type": "code",
   "execution_count": null,
   "metadata": {},
   "outputs": [],
   "source": [
    "A"
   ]
  },
  {
   "cell_type": "code",
   "execution_count": null,
   "metadata": {},
   "outputs": [],
   "source": [
    "np.pi\n"
   ]
  },
  {
   "cell_type": "code",
   "execution_count": null,
   "metadata": {},
   "outputs": [],
   "source": [
    "#as np\n",
    "np.array\n",
    "np.asarray\n",
    "np.asanyarray\n",
    "\n",
    "#random\n",
    "np.random.rand()\n",
    "np.random.randn\n",
    "np.random.randint\n",
    "np.random.random\n",
    "# FUnction\n",
    "np.fromfunction\n",
    "np.fromstring\n",
    "np.fromiter\n",
    "\n",
    "#general\n",
    "np.sort()\n",
    "np.sqrt()\n",
    "np.expo(),log10(),sum()\n",
    "np.reshape()\n",
    "#attributes\n",
    "shape\n",
    "dtypes\n",
    "ndim\n",
    "index\n"
   ]
  },
  {
   "cell_type": "code",
   "execution_count": null,
   "metadata": {},
   "outputs": [],
   "source": [
    "#IMAGE to NUMPY ARRAY \n",
    "\n",
    "from PIL import Image\n",
    "\n",
    "img = Image.open(\"nature.jpg\")\n",
    "\n",
    "print(img)\n",
    "\n",
    "print(img.format)\n",
    "\n",
    "print(img.size)\n",
    "\n",
    "print(img.mode)"
   ]
  },
  {
   "cell_type": "code",
   "execution_count": null,
   "metadata": {},
   "outputs": [],
   "source": [
    "\n",
    "from PIL import Image\n",
    "import numpy as np\n",
    "\n",
    "img = Image.open(\"nature.jpg\")\n",
    "\n",
    "Numpyimg = np.asarray(img)\n",
    "\n",
    "print(Numpyimg.shape)"
   ]
  },
  {
   "cell_type": "code",
   "execution_count": null,
   "metadata": {},
   "outputs": [],
   "source": [
    "revertedImage = Image.fromarray(Numpyimg)\n",
    "print(revertedImage)"
   ]
  },
  {
   "cell_type": "code",
   "execution_count": null,
   "metadata": {},
   "outputs": [],
   "source": [
    "print(revertedImage.show())"
   ]
  },
  {
   "cell_type": "code",
   "execution_count": null,
   "metadata": {},
   "outputs": [],
   "source": []
  }
 ],
 "metadata": {
  "kernelspec": {
   "display_name": "Python 3",
   "language": "python",
   "name": "python3"
  },
  "language_info": {
   "codemirror_mode": {
    "name": "ipython",
    "version": 3
   },
   "file_extension": ".py",
   "mimetype": "text/x-python",
   "name": "python",
   "nbconvert_exporter": "python",
   "pygments_lexer": "ipython3",
   "version": "3.8.8"
  }
 },
 "nbformat": 4,
 "nbformat_minor": 2
}
