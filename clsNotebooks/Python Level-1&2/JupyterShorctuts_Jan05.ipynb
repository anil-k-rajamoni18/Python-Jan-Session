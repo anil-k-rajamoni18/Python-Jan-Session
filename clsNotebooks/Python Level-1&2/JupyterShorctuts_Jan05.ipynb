{
 "cells": [
  {
   "cell_type": "code",
   "execution_count": 3,
   "id": "05e5448e",
   "metadata": {},
   "outputs": [
    {
     "name": "stdout",
     "output_type": "stream",
     "text": [
      "Hey Hi Welcome Kumar\n"
     ]
    }
   ],
   "source": [
    "name = \"Kumar\"\n",
    "\n",
    "print(\"Hey Hi Welcome\",name)"
   ]
  },
  {
   "cell_type": "code",
   "execution_count": 2,
   "id": "19299bdd",
   "metadata": {},
   "outputs": [
    {
     "name": "stdout",
     "output_type": "stream",
     "text": [
      "Enter a :11\n",
      "Enter b : 22\n",
      "33\n"
     ]
    }
   ],
   "source": [
    "a = int(input(\"Enter a :\"))\n",
    "\n",
    "b = int(input(\"Enter b : \"))\n",
    "\n",
    "print(a+b)"
   ]
  },
  {
   "cell_type": "code",
   "execution_count": null,
   "id": "b79c909a",
   "metadata": {},
   "outputs": [],
   "source": []
  },
  {
   "cell_type": "markdown",
   "id": "0773ce10",
   "metadata": {},
   "source": [
    "### Jupyter sesssion \n",
    "    - Discussing shortcuts \n",
    "    - 3 Types of moded \n",
    "            - Command Mode - blue\n",
    "            - Edit Mode  - green\n",
    "            - MarkDown Mode - no cell numbering\n",
    "_HORTCUTS_\n",
    "            \n",
    "<img src = \"https://images.unsplash.com/photo-1672841828271-54340a6fbcd3?ixlib=rb-4.0.3&ixid=MnwxMjA3fDB8MHxwaG90by1wYWdlfHx8fGVufDB8fHx8&auto=format&fit=crop&w=387&q=80\" height=\"400\" width=\"400\">"
   ]
  },
  {
   "cell_type": "code",
   "execution_count": null,
   "id": "dfd46f0c",
   "metadata": {},
   "outputs": [],
   "source": []
  },
  {
   "cell_type": "markdown",
   "id": "0b141190",
   "metadata": {},
   "source": [
    "### Commands "
   ]
  },
  {
   "cell_type": "markdown",
   "id": "9d480f46",
   "metadata": {},
   "source": []
  },
  {
   "cell_type": "code",
   "execution_count": null,
   "id": "76378e6e",
   "metadata": {},
   "outputs": [],
   "source": []
  }
 ],
 "metadata": {
  "kernelspec": {
   "display_name": "Python 3",
   "language": "python",
   "name": "python3"
  },
  "language_info": {
   "codemirror_mode": {
    "name": "ipython",
    "version": 3
   },
   "file_extension": ".py",
   "mimetype": "text/x-python",
   "name": "python",
   "nbconvert_exporter": "python",
   "pygments_lexer": "ipython3",
   "version": "3.8.8"
  }
 },
 "nbformat": 4,
 "nbformat_minor": 5
}
